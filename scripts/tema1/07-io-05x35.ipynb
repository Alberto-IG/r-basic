{
 "cells": [
  {
   "cell_type": "markdown",
   "metadata": {},
   "source": [
    "# 05x35 - Operadores de decisión"
   ]
  },
  {
   "cell_type": "code",
   "execution_count": null,
   "metadata": {},
   "outputs": [],
   "source": [
    "si condicion booleana:\n",
    "    código que se ejecuta si la condición es verdad\n",
    "    ..\n",
    "    ..\n",
    "    ..\n",
    "siguiente código que se ejecuta siempre"
   ]
  },
  {
   "cell_type": "code",
   "execution_count": 28,
   "metadata": {},
   "outputs": [
    {
     "name": "stdout",
     "output_type": "stream",
     "text": [
      "Escribe un número:5\n"
     ]
    }
   ],
   "source": [
    "x = int(input(\"Escribe un número:\"))"
   ]
  },
  {
   "cell_type": "code",
   "execution_count": 29,
   "metadata": {},
   "outputs": [
    {
     "name": "stdout",
     "output_type": "stream",
     "text": [
      "Has escrito el número 5\n"
     ]
    }
   ],
   "source": [
    "if x == 5:\n",
    "    print(\"Has escrito el número 5\")"
   ]
  },
  {
   "cell_type": "code",
   "execution_count": 33,
   "metadata": {},
   "outputs": [
    {
     "name": "stdout",
     "output_type": "stream",
     "text": [
      "Escribe un número:12\n",
      "EL número que has escrito es mayor o igual que 10\n"
     ]
    }
   ],
   "source": [
    "x = int(input(\"Escribe un número:\"))\n",
    "if x < 5:\n",
    "    print(\"Has escrito un número menor que 5\")\n",
    "elif x < 10:\n",
    "    print(\"Has escrito un número menor que 10 y mayor o igual a 5\")\n",
    "else:\n",
    "    print(\"EL número que has escrito es mayor o igual que 10\")"
   ]
  },
  {
   "cell_type": "code",
   "execution_count": 36,
   "metadata": {},
   "outputs": [
    {
     "name": "stdout",
     "output_type": "stream",
     "text": [
      "Escribe un número:15\n"
     ]
    }
   ],
   "source": [
    "x = int(input(\"Escribe un número:\"))\n",
    "if x>0 and x < 10:\n",
    "    print(\"Has escrito un número en el rango de [0,10]\")"
   ]
  },
  {
   "cell_type": "code",
   "execution_count": 39,
   "metadata": {},
   "outputs": [
    {
     "name": "stdout",
     "output_type": "stream",
     "text": [
      "Escribe un número:15\n",
      "Tu número escrito no se encuentra dentro del rango [0,10]\n"
     ]
    }
   ],
   "source": [
    "x = int(input(\"Escribe un número:\"))\n",
    "if x < 0 or x > 10:\n",
    "    print(\"Tu número escrito no se encuentra dentro del rango [0,10]\")"
   ]
  },
  {
   "cell_type": "code",
   "execution_count": null,
   "metadata": {},
   "outputs": [],
   "source": []
  }
 ],
 "metadata": {
  "kernelspec": {
   "display_name": "Python 3",
   "language": "python",
   "name": "python3"
  },
  "language_info": {
   "codemirror_mode": {
    "name": "ipython",
    "version": 3
   },
   "file_extension": ".py",
   "mimetype": "text/x-python",
   "name": "python",
   "nbconvert_exporter": "python",
   "pygments_lexer": "ipython3",
   "version": "3.5.5"
  }
 },
 "nbformat": 4,
 "nbformat_minor": 2
}
