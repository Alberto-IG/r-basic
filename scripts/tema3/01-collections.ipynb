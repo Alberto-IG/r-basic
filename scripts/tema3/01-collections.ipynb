{
  "cells": [
    {
      "cell_type": "markdown",
      "metadata": {
        "id": "4fwxgzYnEUMe"
      },
      "source": [
        "# 08x60 - Listas\n",
        "Son contenedores que permiten almacenar una colección de objetos en un orden determinado. Se pueden acceder, añadir o eliminar objetos de forma sencilla."
      ]
    },
    {
      "cell_type": "code",
      "execution_count": null,
      "metadata": {
        "id": "jA1RzzlBEUMj"
      },
      "outputs": [],
      "source": [
        "L1 = [] # Lista vacía"
      ]
    },
    {
      "cell_type": "code",
      "execution_count": null,
      "metadata": {
        "id": "dQKhJVStEUMm"
      },
      "outputs": [],
      "source": [
        "L2 = ['a', 'e', 'i', 'o', 'u'] # Lista con valores iniciales"
      ]
    },
    {
      "cell_type": "code",
      "execution_count": null,
      "metadata": {
        "id": "AHfFP6hHEUMm"
      },
      "outputs": [],
      "source": [
        "L3 = [2,3,5,7,11] # Lista con valores enteros"
      ]
    },
    {
      "cell_type": "code",
      "execution_count": null,
      "metadata": {
        "id": "GnRgVxXIEUMn"
      },
      "outputs": [],
      "source": [
        "L4 = ['a', 5, True, \"Juan Gabriel\"] # Lista heterogénea con varios tipos de datos diferentes"
      ]
    },
    {
      "cell_type": "code",
      "execution_count": null,
      "metadata": {
        "id": "12AAbg0QEUMo",
        "outputId": "2ebee8a2-2541-46bd-c418-6e421badcf34"
      },
      "outputs": [
        {
          "data": {
            "text/plain": [
              "['a', 5, True, 'Juan Gabriel']"
            ]
          },
          "execution_count": 6,
          "metadata": {},
          "output_type": "execute_result"
        }
      ],
      "source": [
        "L4"
      ]
    },
    {
      "cell_type": "code",
      "execution_count": null,
      "metadata": {
        "id": "Tnr6jTsYEUMr"
      },
      "outputs": [],
      "source": [
        "L5 = [0]*10"
      ]
    },
    {
      "cell_type": "code",
      "execution_count": null,
      "metadata": {
        "id": "JZUHrDesEUMr",
        "outputId": "5fe702b3-3f67-4aa5-da0e-cd16d8fcf3bb"
      },
      "outputs": [
        {
          "data": {
            "text/plain": [
              "[0, 0, 0, 0, 0, 0, 0, 0, 0, 0]"
            ]
          },
          "execution_count": 8,
          "metadata": {},
          "output_type": "execute_result"
        }
      ],
      "source": [
        "L5"
      ]
    },
    {
      "cell_type": "code",
      "execution_count": null,
      "metadata": {
        "id": "Wd8exMEVEUMs",
        "outputId": "6bf289c6-2eca-4ea9-b050-eb0af1a3db6e"
      },
      "outputs": [
        {
          "data": {
            "text/plain": [
              "'a'"
            ]
          },
          "execution_count": 9,
          "metadata": {},
          "output_type": "execute_result"
        }
      ],
      "source": [
        "L4[0] # Las listas en Python empiezan en la posición número 0"
      ]
    },
    {
      "cell_type": "code",
      "execution_count": null,
      "metadata": {
        "id": "fcbUikkvEUMt",
        "outputId": "0635fc6c-f853-482f-a7a6-dcf2a74017a3"
      },
      "outputs": [
        {
          "data": {
            "text/plain": [
              "5"
            ]
          },
          "execution_count": 10,
          "metadata": {},
          "output_type": "execute_result"
        }
      ],
      "source": [
        "L4[1]"
      ]
    },
    {
      "cell_type": "code",
      "execution_count": null,
      "metadata": {
        "id": "-_l-e9k5EUMu"
      },
      "outputs": [],
      "source": [
        "L5[4] = 3.1415 # Modificación de valores"
      ]
    },
    {
      "cell_type": "code",
      "execution_count": null,
      "metadata": {
        "id": "UrJHjvvzEUMv",
        "outputId": "90fb1ebd-5c12-49e0-a312-0318680cc82e"
      },
      "outputs": [
        {
          "data": {
            "text/plain": [
              "[0, 0, 0, 0, 3.1415, 0, 0, 0, 0, 0]"
            ]
          },
          "execution_count": 12,
          "metadata": {},
          "output_type": "execute_result"
        }
      ],
      "source": [
        "L5"
      ]
    },
    {
      "cell_type": "code",
      "execution_count": null,
      "metadata": {
        "id": "KITzTX4bEUMw",
        "outputId": "c9683bc3-a0ee-447d-f467-257a2bef587a"
      },
      "outputs": [
        {
          "ename": "IndexError",
          "evalue": "list assignment index out of range",
          "output_type": "error",
          "traceback": [
            "\u001b[0;31m---------------------------------------------------------------------------\u001b[0m",
            "\u001b[0;31mIndexError\u001b[0m                                Traceback (most recent call last)",
            "\u001b[0;32m<ipython-input-13-ffc9f2456172>\u001b[0m in \u001b[0;36m<module>\u001b[0;34m()\u001b[0m\n\u001b[0;32m----> 1\u001b[0;31m \u001b[0mL5\u001b[0m\u001b[0;34m[\u001b[0m\u001b[0;36m13\u001b[0m\u001b[0;34m]\u001b[0m \u001b[0;34m=\u001b[0m \u001b[0;36m8\u001b[0m\u001b[0;34m\u001b[0m\u001b[0m\n\u001b[0m",
            "\u001b[0;31mIndexError\u001b[0m: list assignment index out of range"
          ]
        }
      ],
      "source": [
        "L5[13] = 8"
      ]
    },
    {
      "cell_type": "code",
      "execution_count": null,
      "metadata": {
        "id": "_tImynKJEUMw",
        "outputId": "10082a7d-2c5e-42c0-849f-7f4082fb3055"
      },
      "outputs": [
        {
          "ename": "IndexError",
          "evalue": "list index out of range",
          "output_type": "error",
          "traceback": [
            "\u001b[0;31m---------------------------------------------------------------------------\u001b[0m",
            "\u001b[0;31mIndexError\u001b[0m                                Traceback (most recent call last)",
            "\u001b[0;32m<ipython-input-14-e8b0a95d1450>\u001b[0m in \u001b[0;36m<module>\u001b[0;34m()\u001b[0m\n\u001b[0;32m----> 1\u001b[0;31m \u001b[0mL5\u001b[0m\u001b[0;34m[\u001b[0m\u001b[0;36m13\u001b[0m\u001b[0;34m]\u001b[0m\u001b[0;34m\u001b[0m\u001b[0m\n\u001b[0m",
            "\u001b[0;31mIndexError\u001b[0m: list index out of range"
          ]
        }
      ],
      "source": [
        "L5[13]"
      ]
    },
    {
      "cell_type": "code",
      "execution_count": null,
      "metadata": {
        "id": "20rGTlqxEUMx",
        "outputId": "b6cd3d02-3ada-410c-df0c-79538b14020b"
      },
      "outputs": [
        {
          "data": {
            "text/plain": [
              "['a', 5]"
            ]
          },
          "execution_count": 15,
          "metadata": {},
          "output_type": "execute_result"
        }
      ],
      "source": [
        "L4[0:2] # Accesos de posiciones múltiples (incluye la primera, pero no la última)"
      ]
    },
    {
      "cell_type": "code",
      "execution_count": null,
      "metadata": {
        "id": "oT4187T0EUMy"
      },
      "outputs": [],
      "source": [
        "L5[1:4] = [1,2,3]"
      ]
    },
    {
      "cell_type": "code",
      "execution_count": null,
      "metadata": {
        "id": "hBm6IxCaEUMz",
        "outputId": "fe1da13f-80bd-4836-8887-02e9334ba0cd"
      },
      "outputs": [
        {
          "data": {
            "text/plain": [
              "[0, 1, 2, 3, 3.1415, 0, 0, 0, 0, 0]"
            ]
          },
          "execution_count": 17,
          "metadata": {},
          "output_type": "execute_result"
        }
      ],
      "source": [
        "L5"
      ]
    },
    {
      "cell_type": "code",
      "execution_count": null,
      "metadata": {
        "id": "4knuszMbEUM0"
      },
      "outputs": [],
      "source": [
        "L5.append(8) # Inserta un valor al final de la lista"
      ]
    },
    {
      "cell_type": "code",
      "execution_count": null,
      "metadata": {
        "id": "CQIhRsF3EUM0",
        "outputId": "be466b40-c9ac-4fc1-d4de-a133aac88359"
      },
      "outputs": [
        {
          "data": {
            "text/plain": [
              "[0, 1, 2, 3, 3.1415, 0, 0, 0, 0, 0, 8]"
            ]
          },
          "execution_count": 19,
          "metadata": {},
          "output_type": "execute_result"
        }
      ],
      "source": [
        "L5"
      ]
    },
    {
      "cell_type": "code",
      "execution_count": null,
      "metadata": {
        "id": "8Wtec00hEUM1"
      },
      "outputs": [],
      "source": [
        "L5.remove(3) # Elimina la primera ocurrencia del objeto 3 de la lista L5"
      ]
    },
    {
      "cell_type": "code",
      "execution_count": null,
      "metadata": {
        "id": "vHvAPUMkEUM2",
        "outputId": "edd2e3fa-21d9-47b6-b45d-e9e03ce982c9"
      },
      "outputs": [
        {
          "data": {
            "text/plain": [
              "[0, 1, 2, 3.1415, 0, 0, 0, 0, 0, 8]"
            ]
          },
          "execution_count": 21,
          "metadata": {},
          "output_type": "execute_result"
        }
      ],
      "source": [
        "L5"
      ]
    },
    {
      "cell_type": "code",
      "execution_count": null,
      "metadata": {
        "id": "-tZUizVeEUM_"
      },
      "outputs": [],
      "source": [
        "L5.reverse() # Invierte el orden de los elementos"
      ]
    },
    {
      "cell_type": "code",
      "execution_count": null,
      "metadata": {
        "id": "DbXGT-wxEUNA",
        "outputId": "b26768b7-0621-46e6-8cce-f1ab6f2784c9"
      },
      "outputs": [
        {
          "data": {
            "text/plain": [
              "[8, 0, 0, 0, 0, 0, 3.1415, 2, 1, 0]"
            ]
          },
          "execution_count": 24,
          "metadata": {},
          "output_type": "execute_result"
        }
      ],
      "source": [
        "L5"
      ]
    },
    {
      "cell_type": "code",
      "execution_count": null,
      "metadata": {
        "id": "Exgew-EYEUNA",
        "outputId": "59b772d8-e374-49a1-add2-dbf631e36db4"
      },
      "outputs": [
        {
          "data": {
            "text/plain": [
              "6"
            ]
          },
          "execution_count": 26,
          "metadata": {},
          "output_type": "execute_result"
        }
      ],
      "source": [
        "L5.count(0) # Para contar las ocurrencias de un elemento. Cuántos ceros hay?"
      ]
    },
    {
      "cell_type": "code",
      "execution_count": null,
      "metadata": {
        "id": "DJAa_SEnEUNB",
        "outputId": "41c6b7af-0268-47b4-e713-18759ddbbaa4"
      },
      "outputs": [
        {
          "data": {
            "text/plain": [
              "7"
            ]
          },
          "execution_count": 27,
          "metadata": {},
          "output_type": "execute_result"
        }
      ],
      "source": [
        "L5.index(2) # En qué índice se encuentra el valor 2"
      ]
    },
    {
      "cell_type": "code",
      "execution_count": null,
      "metadata": {
        "id": "8fa38Z14EUNC",
        "outputId": "6685a3f8-266a-4413-bc12-74e6983fe81a"
      },
      "outputs": [
        {
          "data": {
            "text/plain": [
              "10"
            ]
          },
          "execution_count": 28,
          "metadata": {},
          "output_type": "execute_result"
        }
      ],
      "source": [
        "len(L5) # Longitud de una lista"
      ]
    },
    {
      "cell_type": "code",
      "execution_count": null,
      "metadata": {
        "id": "ymJD9yqSEUNC"
      },
      "outputs": [],
      "source": [
        "L = [1,2,3,4,5,6]"
      ]
    },
    {
      "cell_type": "code",
      "execution_count": null,
      "metadata": {
        "id": "rBpfW699EUND",
        "outputId": "7bcf44dc-c62e-49a4-b885-49600e14fcca"
      },
      "outputs": [
        {
          "data": {
            "text/plain": [
              "[2, 4, 6]"
            ]
          },
          "execution_count": 30,
          "metadata": {},
          "output_type": "execute_result"
        }
      ],
      "source": [
        "L[1::2] #Sacar elementos en posición impar. Es decir, desde la posición 1 en adelante; 1: , sacar de dos en dos; :2"
      ]
    },
    {
      "cell_type": "code",
      "execution_count": null,
      "metadata": {
        "id": "S0MrOi2DEUNE",
        "outputId": "22abea84-8b60-4b2c-d95e-e007aeaf6fcc"
      },
      "outputs": [
        {
          "data": {
            "text/plain": [
              "[1, 3, 5]"
            ]
          },
          "execution_count": 32,
          "metadata": {},
          "output_type": "execute_result"
        }
      ],
      "source": [
        "L[::2] #Sacar elementos en posición par. Es decir, desde la posición cero; 0: ó : , que es lo mismo, sacar de dos en dos; :2"
      ]
    },
    {
      "cell_type": "code",
      "execution_count": null,
      "metadata": {
        "id": "mUgo3ZEHEUNE",
        "outputId": "f21f1cf8-0619-415c-feef-6b6ce1e8f13d"
      },
      "outputs": [
        {
          "data": {
            "text/plain": [
              "6"
            ]
          },
          "execution_count": 33,
          "metadata": {},
          "output_type": "execute_result"
        }
      ],
      "source": [
        "L[-1] # El último valor"
      ]
    },
    {
      "cell_type": "code",
      "execution_count": null,
      "metadata": {
        "id": "-zQAx7wqEUNF",
        "outputId": "ea3e1b92-7cc3-4a90-a804-40bad55f6d23"
      },
      "outputs": [
        {
          "data": {
            "text/plain": [
              "False"
            ]
          },
          "execution_count": 34,
          "metadata": {},
          "output_type": "execute_result"
        }
      ],
      "source": [
        "8 in L # Comprueba si 8 está en la lista"
      ]
    },
    {
      "cell_type": "code",
      "execution_count": null,
      "metadata": {
        "id": "rOixNVC9EUNG",
        "outputId": "ee2bd77e-e80a-459e-d387-c1add07210c9"
      },
      "outputs": [
        {
          "data": {
            "text/plain": [
              "True"
            ]
          },
          "execution_count": 35,
          "metadata": {},
          "output_type": "execute_result"
        }
      ],
      "source": [
        "4 in L # Comprueba si 4 está en la lista"
      ]
    },
    {
      "cell_type": "markdown",
      "metadata": {
        "id": "JiaReXxFEUNG"
      },
      "source": [
        "# 08x61 - Bucles"
      ]
    },
    {
      "cell_type": "markdown",
      "metadata": {
        "id": "Alw_LoH4EUNH"
      },
      "source": [
        "Los bucles **for** iteran sobre una colección (una lista, un string, un objeto iterable)"
      ]
    },
    {
      "cell_type": "code",
      "execution_count": null,
      "metadata": {
        "id": "UBscHd6-EUNH",
        "outputId": "d0bf6bd5-b51c-4b2d-9344-7c148873b6f9"
      },
      "outputs": [
        {
          "name": "stdout",
          "output_type": "stream",
          "text": [
            "1\n",
            "2\n",
            "3\n",
            "4\n",
            "5\n",
            "6\n"
          ]
        }
      ],
      "source": [
        "for numero in L:\n",
        "    print(numero)"
      ]
    },
    {
      "cell_type": "code",
      "execution_count": null,
      "metadata": {
        "id": "_E5PnmYFEUNI",
        "outputId": "9ebb09e6-0e6c-4a07-cf42-0f06f56a78e2"
      },
      "outputs": [
        {
          "data": {
            "text/plain": [
              "6"
            ]
          },
          "execution_count": 37,
          "metadata": {},
          "output_type": "execute_result"
        }
      ],
      "source": [
        "numero"
      ]
    },
    {
      "cell_type": "code",
      "execution_count": null,
      "metadata": {
        "id": "TBQ_rw4iEUNI",
        "outputId": "aa69c466-348e-46c0-ed60-ccf1a53102ca"
      },
      "outputs": [
        {
          "name": "stdout",
          "output_type": "stream",
          "text": [
            "0\n",
            "1\n",
            "2\n",
            "3\n",
            "4\n",
            "5\n",
            "6\n",
            "7\n",
            "8\n",
            "9\n"
          ]
        }
      ],
      "source": [
        "for x in range(0,10): # range(10) = range(0,10)\n",
        "    print(x)"
      ]
    },
    {
      "cell_type": "code",
      "execution_count": null,
      "metadata": {
        "id": "NaG7whuOEUNJ",
        "outputId": "30be284f-51b1-4696-fa8c-417ab5ef13cb"
      },
      "outputs": [
        {
          "name": "stdout",
          "output_type": "stream",
          "text": [
            "J\n",
            "u\n",
            "a\n",
            "n\n",
            " \n",
            "G\n",
            "a\n",
            "b\n",
            "r\n",
            "i\n",
            "e\n",
            "l\n"
          ]
        }
      ],
      "source": [
        "for c in \"Juan Gabriel\":\n",
        "    print(c)"
      ]
    },
    {
      "cell_type": "code",
      "execution_count": null,
      "metadata": {
        "id": "b91ba3oFEUNK",
        "outputId": "af533976-5a23-47b4-d5d9-3b6daa9d007b"
      },
      "outputs": [
        {
          "name": "stdout",
          "output_type": "stream",
          "text": [
            "6.34\n"
          ]
        }
      ],
      "source": [
        "notas = [3.5, 6.7, 8, 9, 4.5]\n",
        "suma = 0\n",
        "for nota in notas:\n",
        "    suma = suma + nota\n",
        "print(suma/len(notas))"
      ]
    },
    {
      "cell_type": "markdown",
      "metadata": {
        "id": "9H8gE5gQEUNL"
      },
      "source": [
        "El bucle **while** se repite hasta que la condición booleana deja de ser cierta."
      ]
    },
    {
      "cell_type": "code",
      "execution_count": null,
      "metadata": {
        "id": "eWA_zAsHEUNL",
        "outputId": "d923e731-4e7d-4682-9e5e-854ffbb8762a"
      },
      "outputs": [
        {
          "name": "stdout",
          "output_type": "stream",
          "text": [
            "0\n",
            "1\n",
            "2\n",
            "3\n",
            "4\n",
            "5\n",
            "6\n",
            "7\n",
            "8\n",
            "9\n"
          ]
        }
      ],
      "source": [
        "count = 0\n",
        "while count < 10:\n",
        "    print(count)\n",
        "    count +=1"
      ]
    },
    {
      "cell_type": "code",
      "execution_count": null,
      "metadata": {
        "id": "TU6UxNaUEUNM",
        "outputId": "ccbc3e1b-c1be-4e54-b8c9-1a71f1cd5d87"
      },
      "outputs": [
        {
          "name": "stdout",
          "output_type": "stream",
          "text": [
            "0 2\n",
            "1 3\n",
            "2 5\n",
            "3 7\n",
            "4 11\n",
            "5 13\n",
            "6 17\n",
            "7 19\n",
            "8 23\n",
            "9 29\n"
          ]
        }
      ],
      "source": [
        "primos = [2,3,5,7,11,13,17,19,23,29]\n",
        "for idx, p in enumerate(primos): # Doble índice, donde idx es la posición en la que estamos. Y enumerar el rango\n",
        "    print(idx, p)"
      ]
    },
    {
      "cell_type": "code",
      "execution_count": null,
      "metadata": {
        "id": "W6LXMAWeEUNN",
        "outputId": "076210ad-5b64-4e2d-a1a6-153ed2f9f5c9"
      },
      "outputs": [
        {
          "name": "stdout",
          "output_type": "stream",
          "text": [
            "0 2\n",
            "1 3\n",
            "2 5\n",
            "3 7\n",
            "4 11\n",
            "5 13\n",
            "6 17\n",
            "7 19\n",
            "8 23\n",
            "9 29\n"
          ]
        }
      ],
      "source": [
        "for idx in range(len(primos)): # Para recorrer solo las posiciones\n",
        "    print(idx, primos[idx])"
      ]
    },
    {
      "cell_type": "markdown",
      "metadata": {
        "id": "ZvQiAmXsEUNN"
      },
      "source": [
        "# 08x62 - Tuplas\n",
        "Una tupla es una colección de objetos que no puede modificarse (tiene tamaño y contenido fijo)."
      ]
    },
    {
      "cell_type": "code",
      "execution_count": null,
      "metadata": {
        "id": "S1Uizc28EUNT"
      },
      "outputs": [],
      "source": [
        "p1 = (1,) # Sin la coma, reconoce el valor como una variable en lugar de una tupla"
      ]
    },
    {
      "cell_type": "code",
      "execution_count": null,
      "metadata": {
        "id": "ICL2-eb9EUNU",
        "outputId": "25b50816-24dd-4621-cc30-72e75538e646"
      },
      "outputs": [
        {
          "data": {
            "text/plain": [
              "(1,)"
            ]
          },
          "execution_count": 55,
          "metadata": {},
          "output_type": "execute_result"
        }
      ],
      "source": [
        "p1"
      ]
    },
    {
      "cell_type": "code",
      "execution_count": null,
      "metadata": {
        "id": "vPLZ8rbhEUNU"
      },
      "outputs": [],
      "source": [
        "p2 = (1,2,3,4)"
      ]
    },
    {
      "cell_type": "code",
      "execution_count": null,
      "metadata": {
        "id": "VF9OC_M1EUNV",
        "outputId": "3b727e2f-bb98-4b74-cf6e-94151202efa0"
      },
      "outputs": [
        {
          "data": {
            "text/plain": [
              "(1, 2, 3, 4)"
            ]
          },
          "execution_count": 53,
          "metadata": {},
          "output_type": "execute_result"
        }
      ],
      "source": [
        "p2"
      ]
    },
    {
      "cell_type": "code",
      "execution_count": null,
      "metadata": {
        "id": "exF9tVkUEUNV"
      },
      "outputs": [],
      "source": [
        "p3 = (1,2,'c',3.1415)"
      ]
    },
    {
      "cell_type": "code",
      "execution_count": null,
      "metadata": {
        "id": "joKcTazsEUNW",
        "outputId": "fde189a2-3e63-4356-c013-ab4c18793839"
      },
      "outputs": [
        {
          "data": {
            "text/plain": [
              "(1, 2, 'c', 3.1415)"
            ]
          },
          "execution_count": 57,
          "metadata": {},
          "output_type": "execute_result"
        }
      ],
      "source": [
        "p3"
      ]
    },
    {
      "cell_type": "code",
      "execution_count": null,
      "metadata": {
        "id": "g8kgQ03VEUNW",
        "outputId": "0a919dff-4210-4bc8-b27a-bcc617d7da42"
      },
      "outputs": [
        {
          "data": {
            "text/plain": [
              "1"
            ]
          },
          "execution_count": 58,
          "metadata": {},
          "output_type": "execute_result"
        }
      ],
      "source": [
        "p3[0]"
      ]
    },
    {
      "cell_type": "code",
      "execution_count": null,
      "metadata": {
        "id": "GzQpbY07EUNX",
        "outputId": "a92aca69-fac7-417a-d37f-4628cc9cfab3"
      },
      "outputs": [
        {
          "data": {
            "text/plain": [
              "(1, 2)"
            ]
          },
          "execution_count": 59,
          "metadata": {},
          "output_type": "execute_result"
        }
      ],
      "source": [
        "p3[0:2]"
      ]
    },
    {
      "cell_type": "code",
      "execution_count": null,
      "metadata": {
        "id": "tqM8xrqUEUNX"
      },
      "outputs": [],
      "source": [
        "a,b,c,d = p3 # Creamos 4 variables y les asignamos los 4 valores de p3"
      ]
    },
    {
      "cell_type": "code",
      "execution_count": null,
      "metadata": {
        "id": "G23U3RH6EUNY",
        "outputId": "958bb83a-09b8-4123-9956-7cdc9fea0dd9"
      },
      "outputs": [
        {
          "data": {
            "text/plain": [
              "1"
            ]
          },
          "execution_count": 61,
          "metadata": {},
          "output_type": "execute_result"
        }
      ],
      "source": [
        "a"
      ]
    },
    {
      "cell_type": "code",
      "execution_count": null,
      "metadata": {
        "id": "ajiRI7XtEUNY",
        "outputId": "75a15b52-d77a-4634-b481-ebdf9f628a97"
      },
      "outputs": [
        {
          "data": {
            "text/plain": [
              "2"
            ]
          },
          "execution_count": 62,
          "metadata": {},
          "output_type": "execute_result"
        }
      ],
      "source": [
        "b"
      ]
    },
    {
      "cell_type": "code",
      "execution_count": null,
      "metadata": {
        "id": "_dibOp2fEUNZ",
        "outputId": "c5bea27d-21a7-4151-8b88-380844e759c6"
      },
      "outputs": [
        {
          "data": {
            "text/plain": [
              "'c'"
            ]
          },
          "execution_count": 63,
          "metadata": {},
          "output_type": "execute_result"
        }
      ],
      "source": [
        "c"
      ]
    },
    {
      "cell_type": "code",
      "execution_count": null,
      "metadata": {
        "id": "0QGjwyD4EUNa",
        "outputId": "5ee4532f-288c-4212-cae4-edb2ca69e6b9"
      },
      "outputs": [
        {
          "data": {
            "text/plain": [
              "3.1415"
            ]
          },
          "execution_count": 64,
          "metadata": {},
          "output_type": "execute_result"
        }
      ],
      "source": [
        "d"
      ]
    },
    {
      "cell_type": "code",
      "execution_count": null,
      "metadata": {
        "id": "L0zv4564EUNa",
        "outputId": "d1b32ad8-d2cc-4d1c-fb31-7a33fade68cb"
      },
      "outputs": [
        {
          "data": {
            "text/plain": [
              "[1, 2, 'c', 3.1415]"
            ]
          },
          "execution_count": 65,
          "metadata": {},
          "output_type": "execute_result"
        }
      ],
      "source": [
        "l3 = list(p3) # Convertimos la tupla p3 en una lista, l3\n",
        "l3"
      ]
    },
    {
      "cell_type": "code",
      "execution_count": null,
      "metadata": {
        "id": "WvwR6ffDEUNb",
        "outputId": "552b8eeb-dd47-491b-8840-2025c68ccc50"
      },
      "outputs": [
        {
          "data": {
            "text/plain": [
              "(8, 0, 0, 0, 0, 0, 3.1415, 2, 1, 0)"
            ]
          },
          "execution_count": 66,
          "metadata": {},
          "output_type": "execute_result"
        }
      ],
      "source": [
        "p5 = tuple(L5) # Convertimos la lista L5 en una tupla, p5\n",
        "p5"
      ]
    },
    {
      "cell_type": "code",
      "execution_count": null,
      "metadata": {
        "id": "ijdSfa1FEUNb",
        "outputId": "68b37fc6-4858-42ec-f612-987a7f9466e7"
      },
      "outputs": [
        {
          "data": {
            "text/plain": [
              "['Hola', 'que', 'tal', '', '', 'estás'] # pero no reconoce si hay 2 separadores seguidos"
            ]
          },
          "execution_count": 68,
          "metadata": {},
          "output_type": "execute_result"
        }
      ],
      "source": [
        "\"Hola que tal   estás\".split(\" \") # Crea una lista con los elementos de la cadena separados por un espacio"
      ]
    },
    {
      "cell_type": "code",
      "execution_count": null,
      "metadata": {
        "id": "ZNWpBDaCEUNc",
        "outputId": "2cb87745-2e16-4cec-e64e-997b86c31f6d"
      },
      "outputs": [
        {
          "data": {
            "text/plain": [
              "['4', '6', '2', '7', '9', '4', '2']"
            ]
          },
          "execution_count": 69,
          "metadata": {},
          "output_type": "execute_result"
        }
      ],
      "source": [
        "\"4,6,2,7,9,4,2\".split(\",\")"
      ]
    },
    {
      "cell_type": "code",
      "execution_count": null,
      "metadata": {
        "id": "hvhEnEuEEUNd",
        "outputId": "cac43c1b-8601-4b9a-c8ab-9ef4b9dcdb90"
      },
      "outputs": [
        {
          "name": "stdout",
          "output_type": "stream",
          "text": [
            "Escribe números separados por comas.8,4,2,6,4,8\n",
            "['8', '4', '2', '6', '4', '8']\n",
            "('8', '4', '2', '6', '4', '8')\n"
          ]
        }
      ],
      "source": [
        "numeros = input(\"Escribe números separados por comas.\")\n",
        "numerosL = numeros.split(\",\")\n",
        "print(numerosL)\n",
        "numerosT = tuple(numerosL)\n",
        "print(numerosT)"
      ]
    },
    {
      "cell_type": "code",
      "execution_count": null,
      "metadata": {
        "id": "2rG73E1rEUNd",
        "outputId": "06fae9ee-f78d-4d09-a672-6120e1753d71"
      },
      "outputs": [
        {
          "name": "stdout",
          "output_type": "stream",
          "text": [
            "5.333333333333333\n"
          ]
        }
      ],
      "source": [
        "suma = 0\n",
        "for n in numerosT:\n",
        "    suma += int(n)\n",
        "    \n",
        "print(suma/len(numerosT))"
      ]
    },
    {
      "cell_type": "markdown",
      "metadata": {
        "id": "fw11V0JAEUNe"
      },
      "source": [
        "# 08x63 - Diccionarios\n",
        "Colección no ordenada de pares de valores: claves <-> valores. Se indexa no por posición, si no utilizando las claves"
      ]
    },
    {
      "cell_type": "code",
      "execution_count": null,
      "metadata": {
        "id": "ZPhqvz1OEUNe",
        "outputId": "5da86cb4-1411-43ab-967e-9bf0c2a1456f"
      },
      "outputs": [
        {
          "name": "stdout",
          "output_type": "stream",
          "text": [
            "Introduce aquí tu nombreMaría Magdalena\n",
            "Hola María Magdalena\n"
          ]
        }
      ],
      "source": [
        "nombre = input(\"Introduce aquí tu nombre\")\n",
        "print(\"Hola %s\"%nombre) # Usamos un place holder para insertar una variable dentro de la cadena"
      ]
    },
    {
      "cell_type": "code",
      "execution_count": null,
      "metadata": {
        "id": "y_mLGYcdEUNf",
        "outputId": "dad3e4c3-ebdd-4963-a434-ea74626d45bb"
      },
      "outputs": [
        {
          "name": "stdout",
          "output_type": "stream",
          "text": [
            "Estos son los números primos: [2, 3, 5, 7, 11, 13, 17, 19, 23, 29]\n"
          ]
        }
      ],
      "source": [
        "print(\"Estos son los números primos: %s\"%primos) # El %s inserta un string"
      ]
    },
    {
      "cell_type": "code",
      "execution_count": null,
      "metadata": {
        "id": "VczZEL43EUNg",
        "outputId": "960f05ea-1d5f-484a-ab5f-a517490649c4"
      },
      "outputs": [
        {
          "name": "stdout",
          "output_type": "stream",
          "text": [
            "Esto es un número: 32\n"
          ]
        }
      ],
      "source": [
        "print(\"Esto es un número: %d\"%suma) # El %d inserta un dígito"
      ]
    },
    {
      "cell_type": "code",
      "execution_count": null,
      "metadata": {
        "id": "Rrv48ZVXEUNg",
        "outputId": "36a34c49-4420-4143-d82f-b196a9d8d458"
      },
      "outputs": [
        {
          "name": "stdout",
          "output_type": "stream",
          "text": [
            "Esto es un número decimal: 5\n"
          ]
        }
      ],
      "source": [
        "media = suma/len(numerosT)\n",
        "print(\"Esto es un número decimal: %.0f\"%media) # El %f inserta un decimal. El %.2f, con 2 decimales"
      ]
    },
    {
      "cell_type": "code",
      "execution_count": null,
      "metadata": {
        "id": "e9Fg7LMOEUNh"
      },
      "outputs": [],
      "source": [
        "edad = {\n",
        "    \"Juan Gabriel\":30, \n",
        "    \"María\":20, \n",
        "    \"Ricardo\":53, \n",
        "    \"Antonio\":45\n",
        "}"
      ]
    },
    {
      "cell_type": "code",
      "execution_count": null,
      "metadata": {
        "id": "WO4uEOpMEUNi",
        "outputId": "0fb09187-dbd1-4f06-d533-7bedfab81ee6"
      },
      "outputs": [
        {
          "data": {
            "text/plain": [
              "53"
            ]
          },
          "execution_count": 90,
          "metadata": {},
          "output_type": "execute_result"
        }
      ],
      "source": [
        "edad[\"Ricardo\"]"
      ]
    },
    {
      "cell_type": "code",
      "execution_count": null,
      "metadata": {
        "id": "jR_BFp0AEUNi"
      },
      "outputs": [],
      "source": [
        "edad[\"Ricardo\"] = 52"
      ]
    },
    {
      "cell_type": "code",
      "execution_count": null,
      "metadata": {
        "id": "mhRlgMUREUNj",
        "outputId": "a4ab8607-a739-47c1-d65c-59144a5ada68"
      },
      "outputs": [
        {
          "data": {
            "text/plain": [
              "{'Antonio': 45, 'Juan Gabriel': 30, 'María': 20, 'Ricardo': 52}"
            ]
          },
          "execution_count": 92,
          "metadata": {},
          "output_type": "execute_result"
        }
      ],
      "source": [
        "edad"
      ]
    },
    {
      "cell_type": "code",
      "execution_count": null,
      "metadata": {
        "id": "tvGhYUToEUNj",
        "outputId": "3c280a73-3f7c-4464-f429-fa5aa954232d"
      },
      "outputs": [
        {
          "data": {
            "text/plain": [
              "dict_keys(['María', 'Ricardo', 'Antonio', 'Juan Gabriel'])"
            ]
          },
          "execution_count": 93,
          "metadata": {},
          "output_type": "execute_result"
        }
      ],
      "source": [
        "edad.keys()"
      ]
    },
    {
      "cell_type": "code",
      "execution_count": null,
      "metadata": {
        "id": "yBmwAfssEUNk",
        "outputId": "dd3c33fe-90fc-497e-d332-ae2c83191c3c"
      },
      "outputs": [
        {
          "data": {
            "text/plain": [
              "dict_values([20, 52, 45, 30])"
            ]
          },
          "execution_count": 94,
          "metadata": {},
          "output_type": "execute_result"
        }
      ],
      "source": [
        "edad.values()"
      ]
    },
    {
      "cell_type": "code",
      "execution_count": null,
      "metadata": {
        "id": "FFcN9aeXEUNl",
        "outputId": "13aa3080-4f03-448b-c9bf-2bc991e1e7f2"
      },
      "outputs": [
        {
          "data": {
            "text/plain": [
              "4"
            ]
          },
          "execution_count": 95,
          "metadata": {},
          "output_type": "execute_result"
        }
      ],
      "source": [
        "len(edad)"
      ]
    },
    {
      "cell_type": "code",
      "execution_count": null,
      "metadata": {
        "id": "BoBprgl2EUNl",
        "outputId": "39bbd731-7e78-46f4-a972-b921e86e6e63"
      },
      "outputs": [
        {
          "data": {
            "text/plain": [
              "False"
            ]
          },
          "execution_count": 96,
          "metadata": {},
          "output_type": "execute_result"
        }
      ],
      "source": [
        "\"Pepe\" in edad"
      ]
    },
    {
      "cell_type": "code",
      "execution_count": null,
      "metadata": {
        "id": "MW1YE8Z-EUNm",
        "outputId": "8323561d-8a44-4074-9055-b91de556fe38"
      },
      "outputs": [
        {
          "data": {
            "text/plain": [
              "True"
            ]
          },
          "execution_count": 97,
          "metadata": {},
          "output_type": "execute_result"
        }
      ],
      "source": [
        "\"María\" in edad"
      ]
    },
    {
      "cell_type": "code",
      "execution_count": null,
      "metadata": {
        "id": "IZEGM-gTEUNm",
        "outputId": "5015bc70-ff4c-4d9a-a10d-af2fadbd56af"
      },
      "outputs": [
        {
          "data": {
            "text/plain": [
              "True"
            ]
          },
          "execution_count": 98,
          "metadata": {},
          "output_type": "execute_result"
        }
      ],
      "source": [
        "\"Mario\" not in edad"
      ]
    },
    {
      "cell_type": "code",
      "execution_count": null,
      "metadata": {
        "id": "Fhlsu4PvEUNn"
      },
      "outputs": [],
      "source": [
        "del edad[\"Antonio\"]"
      ]
    },
    {
      "cell_type": "code",
      "execution_count": null,
      "metadata": {
        "id": "kuXKTGSEEUNn",
        "outputId": "e0f3e6b7-5491-44e9-b598-f0acca3da903"
      },
      "outputs": [
        {
          "data": {
            "text/plain": [
              "{'Juan Gabriel': 30, 'María': 20, 'Ricardo': 52}"
            ]
          },
          "execution_count": 101,
          "metadata": {},
          "output_type": "execute_result"
        }
      ],
      "source": [
        "edad"
      ]
    },
    {
      "cell_type": "code",
      "execution_count": null,
      "metadata": {
        "id": "b8iBRmxYEUNo",
        "outputId": "7992629a-b34e-425f-ee88-544049719fec"
      },
      "outputs": [
        {
          "data": {
            "text/plain": [
              "{'Al1': 5.6, 'Al2': 7.5, 'Al3': 10, 'Al4': False}"
            ]
          },
          "execution_count": 102,
          "metadata": {},
          "output_type": "execute_result"
        }
      ],
      "source": [
        "notas = {\"Al1\": 5.6, \"Al2\":7.5, \"Al3\": 10, \"Al4\":False}\n",
        "notas"
      ]
    },
    {
      "cell_type": "code",
      "execution_count": null,
      "metadata": {
        "id": "J5Fj_xSjEUNp"
      },
      "outputs": [],
      "source": []
    }
  ],
  "metadata": {
    "kernelspec": {
      "display_name": "Python 3",
      "language": "python",
      "name": "python3"
    },
    "language_info": {
      "codemirror_mode": {
        "name": "ipython",
        "version": 3
      },
      "file_extension": ".py",
      "mimetype": "text/x-python",
      "name": "python",
      "nbconvert_exporter": "python",
      "pygments_lexer": "ipython3",
      "version": "3.5.5"
    },
    "colab": {
      "provenance": [],
      "toc_visible": true
    }
  },
  "nbformat": 4,
  "nbformat_minor": 0
}