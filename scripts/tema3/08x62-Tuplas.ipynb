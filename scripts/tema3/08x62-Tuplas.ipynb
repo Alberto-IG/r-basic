{
  "nbformat": 4,
  "nbformat_minor": 0,
  "metadata": {
    "colab": {
      "provenance": [],
      "collapsed_sections": [],
      "authorship_tag": "ABX9TyNGcA4xxSPe/qjC70/IeyoK",
      "include_colab_link": true
    },
    "kernelspec": {
      "name": "python3",
      "display_name": "Python 3"
    },
    "language_info": {
      "name": "python"
    }
  },
  "cells": [
    {
      "cell_type": "markdown",
      "metadata": {
        "id": "view-in-github",
        "colab_type": "text"
      },
      "source": [
        "<a href=\"https://colab.research.google.com/github/Alberto-IG/r-basic/blob/master/scripts/tema3/08x62-Tuplas.ipynb\" target=\"_parent\"><img src=\"https://colab.research.google.com/assets/colab-badge.svg\" alt=\"Open In Colab\"/></a>"
      ]
    },
    {
      "cell_type": "markdown",
      "source": [
        "# 08x62 - Tuplas"
      ],
      "metadata": {
        "id": "gMr_lTVPMQYD"
      }
    },
    {
      "cell_type": "code",
      "execution_count": null,
      "metadata": {
        "colab": {
          "base_uri": "https://localhost:8080/"
        },
        "id": "hOoC7IdhUk8S",
        "outputId": "be1a08b7-6dd5-43d3-ce26-e982f6c86102"
      },
      "outputs": [
        {
          "output_type": "execute_result",
          "data": {
            "text/plain": [
              "tuple"
            ]
          },
          "metadata": {},
          "execution_count": 1
        }
      ],
      "source": [
        "t = (5,) # Sin la coma, lo reconocería como int en lugar de tuple\n",
        "type(t)"
      ]
    },
    {
      "cell_type": "markdown",
      "source": [
        "## Ejercicio (min 7):\n",
        "* Crear una cadena de números separados por comas, leídos por teclado\n",
        "* Convertirla en una LISTA y mostrarla por pantalla\n",
        "* Finalmente convertirla en una Tupla"
      ],
      "metadata": {
        "id": "XNdvxC9FMTQU"
      }
    },
    {
      "cell_type": "code",
      "source": [
        "# Introducir por teclado, números separados por comas\n",
        "numeros = input(\"Introduce los números separados por comas: \")\n",
        "\n",
        "# Usar split para dividir la cadena con el separador coma. Se crea una lista de strings\n",
        "num = numeros.split(\",\")\n",
        "print(\"Tras el split:\\t\"+str(num))\n",
        "\n",
        "# Usar map para mapear/cambiar el tipo de dato a int\n",
        "lista = list(map(int,num))\n",
        "print(\"Pasado a lista:\\t\"+str(lista))\n",
        "\n",
        "# Convertir la lista en una tupla\n",
        "tupla = tuple(lista)\n",
        "print(\"Pasado a tupla:\\t\"+str(tupla))"
      ],
      "metadata": {
        "colab": {
          "base_uri": "https://localhost:8080/"
        },
        "id": "HErxYNdGNbPp",
        "outputId": "6ffc847b-e618-49e0-c271-6a392e970f20"
      },
      "execution_count": null,
      "outputs": [
        {
          "output_type": "stream",
          "name": "stdout",
          "text": [
            "Introduce los números separados por comas: 546,67,98,52\n",
            "Tras el split:\t['546', '67', '98', '52']\n",
            "Pasado a lista:\t[546, 67, 98, 52]\n",
            "Pasado a tupla:\t(546, 67, 98, 52)\n"
          ]
        }
      ]
    }
  ]
}